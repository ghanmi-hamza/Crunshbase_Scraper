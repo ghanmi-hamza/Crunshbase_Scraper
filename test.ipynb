{
 "cells": [
  {
   "cell_type": "code",
   "execution_count": 1,
   "metadata": {},
   "outputs": [],
   "source": [
    "from selenium import webdriver\n",
    "from selenium.webdriver.common.by import By\n",
    "from selenium.webdriver.chrome.options import Options\n",
    "from selenium.webdriver.firefox.options import Options"
   ]
  },
  {
   "cell_type": "code",
   "execution_count": 2,
   "metadata": {},
   "outputs": [],
   "source": [
    "options = webdriver.firefox.options.Options()\n",
    "        #options.headless = True   C:\\Users\\hamza\\Downloads\\geckodriver-v0.29.0-win64\n",
    "driver = webdriver.Firefox(executable_path=r\"C:\\Users\\hamza\\Downloads\\geckodriver-v0.29.0-win64\\geckodriver.exe\", options=options)\n",
    "driver.get('https://www.crunchbase.com/organization/instadeep')"
   ]
  },
  {
   "cell_type": "code",
   "execution_count": 38,
   "metadata": {},
   "outputs": [],
   "source": [
    "driver.get('https://www.crunchbase.com/organization/aircision')"
   ]
  },
  {
   "cell_type": "code",
   "execution_count": 8,
   "metadata": {},
   "outputs": [],
   "source": [
    "    elem0 = driver.find_element_by_xpath(\".//*[@id= 'company_overview_about']\")\n",
    "    elm = elem0.find_element_by_xpath('..')\n",
    "    description = elm.find_element_by_xpath(\".//*[@class= 'description']\").text   \n",
    "    "
   ]
  },
  {
   "cell_type": "code",
   "execution_count": null,
   "metadata": {},
   "outputs": [],
   "source": [
    "about_list = [e.text for e in elm.find_elements_by_xpath(\".//ul[@class= 'icon_and_value']/\")]"
   ]
  },
  {
   "cell_type": "code",
   "execution_count": 12,
   "metadata": {},
   "outputs": [
    {
     "output_type": "execute_result",
     "data": {
      "text/plain": [
       "[<selenium.webdriver.firefox.webelement.FirefoxWebElement (session=\"07d9d9a0-e453-4efd-aca2-c50b388e285f\", element=\"6bd2daea-08dd-43b8-9abc-7ac9a3cc1586\")>,\n",
       " <selenium.webdriver.firefox.webelement.FirefoxWebElement (session=\"07d9d9a0-e453-4efd-aca2-c50b388e285f\", element=\"03fed9bf-8ed3-4291-823b-b8ac5b8aecb5\")>,\n",
       " <selenium.webdriver.firefox.webelement.FirefoxWebElement (session=\"07d9d9a0-e453-4efd-aca2-c50b388e285f\", element=\"9852d213-3afd-4d94-b915-3f70e7616ccf\")>,\n",
       " <selenium.webdriver.firefox.webelement.FirefoxWebElement (session=\"07d9d9a0-e453-4efd-aca2-c50b388e285f\", element=\"e21cd6c6-707f-4ae7-b89e-df3d30533ca9\")>,\n",
       " <selenium.webdriver.firefox.webelement.FirefoxWebElement (session=\"07d9d9a0-e453-4efd-aca2-c50b388e285f\", element=\"77401cb6-afb0-4f1d-a6f4-b6eabbc7b6d7\")>,\n",
       " <selenium.webdriver.firefox.webelement.FirefoxWebElement (session=\"07d9d9a0-e453-4efd-aca2-c50b388e285f\", element=\"69a7821b-6e97-448f-9844-e22db1c57735\")>]"
      ]
     },
     "metadata": {},
     "execution_count": 12
    }
   ],
   "source": [
    "elm.find_elements_by_xpath(\".//ul[@class= 'icon_and_value']/li\")"
   ]
  },
  {
   "cell_type": "code",
   "execution_count": 32,
   "metadata": {},
   "outputs": [
    {
     "output_type": "execute_result",
     "data": {
      "text/plain": [
       "{'Description': 'Developing a range of new ultrasound capabilities for the creative industries, military and defence, and the autonomous mobility markets.Calyo is developing a range of new ultrasound capabilities that have the potential to be disruptive in a very diverse range of markets – from smart wearables to intelligent robots and mobility location for autonomous vehicles to stealth applications for the military and security sectors.',\n",
       " 'Description_list': ['Bristol, Bristol, City of, United Kingdom',\n",
       "  '1-10',\n",
       "  'Private',\n",
       "  'calyo.co.uk',\n",
       "  '169,384'],\n",
       " 'Industries': ['Advanced Materials\\nAutonomous Vehicles\\nComputer Vision\\nData Visualization\\nDigital Signage\\nHardware\\nRobotics\\nSoftware'],\n",
       " 'Founded Date': ['Jun 2019'],\n",
       " 'Founders': ['Mihai Caleap'],\n",
       " 'Operating Status': ['Active'],\n",
       " 'Legal Name': ['Calyo Limited'],\n",
       " 'Company Type': ['For Profit'],\n",
       " 'Contact Email': ['info@calyo.co.uk']}"
      ]
     },
     "metadata": {},
     "execution_count": 32
    }
   ],
   "source": [
    "def summury(driver):\n",
    "    elem0 = driver.find_element_by_xpath(\".//*[@id= 'company_overview_about']\")\n",
    "    elm = elem0.find_element_by_xpath('..')\n",
    "    description1 = elm.find_element_by_xpath(\".//*[@class= 'description']\").text   \n",
    "    about_list = [e.text for e in elm.find_elements_by_xpath(\".//ul[@class= 'icon_and_value']/li\")]\n",
    "    \n",
    "\n",
    "    elem2 = driver.find_element_by_xpath(\".//*[@id= 'overview_default_view']\")   \n",
    "    elm = elem2.find_element_by_xpath('..')\n",
    "    try :\n",
    "        description2 = elm.find_element_by_xpath(\".//*[@class= 'description']\").text\n",
    "    except :\n",
    "        description2 = ''\n",
    "    elms = elm.find_elements_by_xpath(\".//*[@class= 'text_and_value']/li\")     \n",
    "    Details = {}\n",
    "    for e in  elm.find_elements_by_xpath(\".//*[@class= 'text_and_value']/li\"): \n",
    "        Details[e.text.split(' \\n')[0]] = e.text.split(' \\n')[1:]\n",
    "    dic = {\n",
    "        'Description' : description1 + description2,\n",
    "        'Description_list' : about_list\n",
    "    }\n",
    "    dic.update(Details)\n",
    "    return(dic)\n",
    "summury(driver)"
   ]
  },
  {
   "cell_type": "code",
   "execution_count": 18,
   "metadata": {},
   "outputs": [
    {
     "output_type": "execute_result",
     "data": {
      "text/plain": [
       "['Company Type', 'For Profit']"
      ]
     },
     "metadata": {},
     "execution_count": 18
    }
   ],
   "source": [
    "'Company Type \\nFor Profit'.split(' \\n')"
   ]
  },
  {
   "cell_type": "code",
   "execution_count": 3,
   "metadata": {},
   "outputs": [
    {
     "output_type": "execute_result",
     "data": {
      "text/plain": [
       "'InstaDeep - Updates, News, Events, Signals & Triggers'"
      ]
     },
     "metadata": {},
     "execution_count": 3
    }
   ],
   "source": [
    "driver.title"
   ]
  },
  {
   "cell_type": "code",
   "execution_count": 67,
   "metadata": {},
   "outputs": [
    {
     "output_type": "execute_result",
     "data": {
      "text/plain": [
       "{'Fundings': 'InstaDeep has raised a total of $7M in funding over 3 rounds. Their latest funding was raised on May 9, 2019 from a Series A round. InstaDeep is funded by 5 investors. AfricInvest and Endeavor Catalyst are the most recent investors.'}"
      ]
     },
     "metadata": {},
     "execution_count": 67
    }
   ],
   "source": [
    "def financial(driver):\n",
    "    \n",
    "    try: \n",
    "        elem1 = driver.find_element_by_xpath(\".//*[@id= 'company_financials_about']\")\n",
    "        Fundings = elem1.find_element_by_xpath('..').text\n",
    "    except :\n",
    "        Fundings = ''\n",
    "    dic = {\n",
    "        'Fundings' : ' '.join(Fundings.split()[1:]),\n",
    "    }\n",
    "    return(dic)\n",
    "financial(driver)"
   ]
  },
  {
   "cell_type": "code",
   "execution_count": 48,
   "metadata": {},
   "outputs": [
    {
     "output_type": "execute_result",
     "data": {
      "text/plain": [
       "{'Team': [{'image': 'https://res-3.cloudinary.com/crunchbase-production/image/upload/c_thumb,h_85,w_85,f_auto,g_faces,z_0.7,b_white,q_auto:eco/bvsv32smdhqbpqtpkume',\n",
       "   'name': 'Karim Beguir',\n",
       "   'profile_link': 'https://www.crunchbase.com/person/karim-beguir',\n",
       "   'role': 'Co-Founder & CEO'},\n",
       "  {'image': 'https://res-2.cloudinary.com/crunchbase-production/image/upload/c_thumb,h_85,w_85,f_auto,g_faces,z_0.7,b_white,q_auto:eco/dcq13anvphlcdrk3qdij',\n",
       "   'name': 'Zohra Slim',\n",
       "   'profile_link': 'https://www.crunchbase.com/person/zohra-slim',\n",
       "   'role': 'Co-Founder and CD&VO'},\n",
       "  {'image': 'https://res-3.cloudinary.com/crunchbase-production/image/upload/c_thumb,h_85,w_85,f_auto,g_faces,z_0.7,b_white,q_auto:eco/vluoqxxswdjudalvgiwt',\n",
       "   'name': 'Isabelle Levard',\n",
       "   'profile_link': 'https://www.crunchbase.com/person/isabelle-levard',\n",
       "   'role': 'Group CFO'}]}"
      ]
     },
     "metadata": {},
     "execution_count": 48
    }
   ],
   "source": [
    "def People(driver):\n",
    "    try: \n",
    "        elem1 = driver.find_element_by_xpath(\".//*[@id= 'current_employees']\")   \n",
    "        elem2 = elem1.find_element_by_xpath('..')\n",
    "        li = elem2.find_elements_by_xpath(\".//ul[@class= 'two-column ng-star-inserted']/li\")\n",
    "        team = []\n",
    "        for e in li:\n",
    "            team.append({\"image\": e.find_element_by_xpath('.//img').get_attribute(\"src\"),\n",
    "                            \"name\": e.find_element_by_xpath('.//a').text,\n",
    "                            \"profile_link\": e.find_element_by_xpath('.//a').get_attribute(\"href\"),\n",
    "                            \"role\": e.find_element_by_xpath('.//span').text } )\n",
    "    except :\n",
    "        team = ''\n",
    "    dic = {\n",
    "        'Team' : team,\n",
    "    }\n",
    "    return(dic)\n",
    "People(driver)"
   ]
  },
  {
   "cell_type": "code",
   "execution_count": 36,
   "metadata": {},
   "outputs": [],
   "source": [
    "        elem1 = driver.find_element_by_xpath(\".//*[@id= 'current_employees']\")   \n",
    "        elem2 = elem1.find_element_by_xpath('..')\n",
    "        li = elem2.find_elements_by_xpath(\".//ul[@class= 'two-column ng-star-inserted']/li\")\n",
    "        "
   ]
  },
  {
   "cell_type": "code",
   "execution_count": 37,
   "metadata": {},
   "outputs": [
    {
     "output_type": "execute_result",
     "data": {
      "text/plain": [
       "[<selenium.webdriver.firefox.webelement.FirefoxWebElement (session=\"07d9d9a0-e453-4efd-aca2-c50b388e285f\", element=\"e55539ce-12af-434a-957b-565be088b45b\")>,\n",
       " <selenium.webdriver.firefox.webelement.FirefoxWebElement (session=\"07d9d9a0-e453-4efd-aca2-c50b388e285f\", element=\"1264f241-f350-4030-9fe0-c250422c2730\")>,\n",
       " <selenium.webdriver.firefox.webelement.FirefoxWebElement (session=\"07d9d9a0-e453-4efd-aca2-c50b388e285f\", element=\"8c4366c3-0aca-4ec4-8ad8-a3fda971b959\")>]"
      ]
     },
     "metadata": {},
     "execution_count": 37
    }
   ],
   "source": [
    "li"
   ]
  },
  {
   "cell_type": "code",
   "execution_count": 40,
   "metadata": {},
   "outputs": [
    {
     "output_type": "execute_result",
     "data": {
      "text/plain": [
       "'https://res-3.cloudinary.com/crunchbase-production/image/upload/c_thumb,h_85,w_85,f_auto,g_faces,z_0.7,b_white,q_auto:eco/bvsv32smdhqbpqtpkume'"
      ]
     },
     "metadata": {},
     "execution_count": 40
    }
   ],
   "source": [
    "li[0].find_element_by_xpath('.//img').get_attribute(\"src\")"
   ]
  },
  {
   "cell_type": "code",
   "execution_count": null,
   "metadata": {},
   "outputs": [],
   "source": [
    "team = [{\"image\": li.find_element_by_xpath('.//img').get_attribute(\"src\")} for e in li]"
   ]
  },
  {
   "cell_type": "code",
   "execution_count": 77,
   "metadata": {},
   "outputs": [
    {
     "output_type": "execute_result",
     "data": {
      "text/plain": [
       "{'Team': 'InstaDeep is actively using 40 technologies for its website, according to BuiltWith. These include Viewport Meta, IPhone / Mobile Compatible, and SPF.'}"
      ]
     },
     "metadata": {},
     "execution_count": 77
    }
   ],
   "source": [
    "def Technology(driver):\n",
    "    try: \n",
    "        elem1 = driver.find_element_by_xpath(\".//*[@id= 'technology_about']\")\n",
    "        technology = elem1.find_element_by_xpath('..').text\n",
    "    except :\n",
    "        team = ''\n",
    "    dic = {\n",
    "        'Technology' : ' '.join(technology.split()[1:]),\n",
    "    }\n",
    "    return(dic)\n",
    "Technology(driver)"
   ]
  },
  {
   "cell_type": "code",
   "execution_count": 9,
   "metadata": {},
   "outputs": [
    {
     "output_type": "execute_result",
     "data": {
      "text/plain": [
       "{'Activity': ['News • Feb 19, 2021 Medium — #SGGlobal21 Startup Program: Accelerate Startups Announced!',\n",
       "  'News • Jan 27, 2021 AiThority — Kao Data to Host InstaDeep’s HPC and AI Supercomputer, Expanding R&D Capabilities',\n",
       "  'News • Jan 26, 2021 ComputerWeekly.com — Kao Data signs AI-focused life sciences startup InstaDeep as a customer',\n",
       "  'News • Nov 25, 2020 GlobeNewswire News Room — BioNTech and InstaDeep Announce Strategic Collaboration and Form AI Innovation Lab to Develop Novel Immunotherapies',\n",
       "  'News • Sep 4, 2019 Ventureburn — French government announces initiative to fly three SA tech startups to France',\n",
       "  'Funding Round • May 9, 2019 InstaDeep raised $7,000,000 / Series A from AfricInvest and Endeavor Catalyst Discover more funding rounds',\n",
       "  'Funding Round • Feb 13, 2019 InstaDeep raised an undisclosed amount / Non Equity Assistance from Plug and Play Discover more funding rounds'],\n",
       " 'Events': 'Number of Events 3 InstaDeep has participated in 3 events. They most recently attended, or will attend, MWC Barcelona on Jun 28, 2021. MWC Barcelona Exhibitor Jun 28, 2021 NVIDIA GTC 2021 Exhibitor Apr 12, 2021 GTC 2018 Exhibitor Mar 26, 2018'}"
      ]
     },
     "metadata": {},
     "execution_count": 9
    }
   ],
   "source": [
    "def News(driver):\n",
    "    li = []\n",
    "    try : \n",
    "        elem0 = driver.find_element_by_xpath(\".//*[@id= 'timeline']\")\n",
    "        a = elem0.find_element_by_xpath('..')  \n",
    "        xx =  a.find_elements_by_xpath(\".//*[@class= 'activity-row ng-star-inserted']\")\n",
    "        Activity = [' '.join(e.text.split()) for e in xx]\n",
    "\n",
    "    except :\n",
    "        Activity = []\n",
    "\n",
    "    try : \n",
    "        elem2 = driver.find_element_by_xpath(\".//*[@id= 'events']\")\n",
    "        Events = elem2.find_element_by_xpath('..').text\n",
    "    except : \n",
    "        Events = ''\n",
    "    dic = {\n",
    "        'Activity' : Activity,\n",
    "        'Events' : ' '.join(Events.split()[1:])\n",
    "    }\n",
    "    return(dic)\n",
    "News(driver)"
   ]
  },
  {
   "cell_type": "code",
   "execution_count": 141,
   "metadata": {},
   "outputs": [],
   "source": [
    "class Profile:\n",
    "\n",
    "    def __init__(self,name=''):\n",
    "        self.name=name\n",
    "        \n",
    "        pass\n",
    "\n",
    "    def get_browser(self):\n",
    "        options = webdriver.firefox.options.Options()\n",
    "        #options.headless = True\n",
    "        self.driver = webdriver.Firefox(executable_path=r\"C:\\Users\\hamza\\Downloads\\geckodriver-v0.29.0-win64\\geckodriver.exe\", options=options)\n",
    "        #self.driver.get('https://www.crunchbase.com/organization/'+str(self.name))\n",
    "    def summary(self):\n",
    "        self.driver.get('https://www.crunchbase.com/organization/'+str(self.name))\n",
    "        elem0 = self.driver.find_element_by_xpath(\".//*[@id= 'company_overview_about']\")\n",
    "        About = elem0.find_element_by_xpath('..').text\n",
    "\n",
    "        try: \n",
    "            elem1 = self.driver.find_element_by_xpath(\".//*[@id= 'company_overview_highlights']\")\n",
    "            Highlights = elem1.find_element_by_xpath('..').text\n",
    "        except :\n",
    "            Highlights = ''\n",
    "\n",
    "        elem2 = self.driver.find_element_by_xpath(\".//*[@id= 'overview_default_view']\")\n",
    "        Details = elem2.find_element_by_xpath('..').text\n",
    "        dic = {\n",
    "            'About' : ' '.join(About.split()[1:]),\n",
    "            'Highlights' : ' '.join(Highlights.split()[1:]),\n",
    "            'Details' : ' '.join(Details.split()[1:])\n",
    "        }\n",
    "        return(dic)\n",
    "\n",
    "    def financial(self):\n",
    "        try:\n",
    "            self.driver.get('https://www.crunchbase.com/organization/'+str(self.name)+\"/company_financials\")\n",
    "            try: \n",
    "                elem1 = self.driver.find_element_by_xpath(\".//*[@id= 'company_financials_about']\")\n",
    "                Fundings = elem1.find_element_by_xpath('..').text\n",
    "            except :\n",
    "                Fundings = ''\n",
    "        except:\n",
    "            Fundings = ''\n",
    "        dic = {\n",
    "            'Fundings' : ' '.join(Fundings.split()[1:]),\n",
    "        }\n",
    "        return(dic)\n",
    "    def people(self):\n",
    "        try:\n",
    "            self.driver.get('https://www.crunchbase.com/organization/'+str(self.name)+\"/people\")\n",
    "            try: \n",
    "                elem1 = self.driver.find_element_by_xpath(\".//*[@id= 'current_employees']\")\n",
    "                team = elem1.find_element_by_xpath('..').text\n",
    "            except :\n",
    "                team = ''\n",
    "        except:\n",
    "            team = ''\n",
    "        dic = {\n",
    "            'Team' : ' '.join(team.split()[2:]),\n",
    "        }\n",
    "        return(dic)\n",
    "    def technology(self):\n",
    "        try:\n",
    "            self.driver.get('https://www.crunchbase.com/organization/'+str(self.name)+\"/technology\")\n",
    "            try: \n",
    "                elem1 = self.driver.find_element_by_xpath(\".//*[@id= 'technology_about']\")\n",
    "                technology = elem1.find_element_by_xpath('..').text\n",
    "            except :\n",
    "                technology = ''\n",
    "        except:\n",
    "            technology = ''\n",
    "        dic = {\n",
    "            'Technology' : ' '.join(technology.split()[1:]),\n",
    "        }\n",
    "        return(dic)\n",
    "    def news(self):\n",
    "        self.driver.get('https://www.crunchbase.com/organization/'+str(self.name)+\"/signals_and_news\")\n",
    "        try : \n",
    "            elem0 = self.driver.find_element_by_xpath(\".//*[@id= 'timeline']\")\n",
    "            Activity = elem0.find_element_by_xpath('..').text\n",
    "        except :\n",
    "            Activity = ''\n",
    "\n",
    "        try : \n",
    "            elem2 = self.driver.find_element_by_xpath(\".//*[@id= 'events']\")\n",
    "            Events = elem2.find_element_by_xpath('..').text\n",
    "        except : \n",
    "            Events = ''\n",
    "        dic = {\n",
    "            'Activity' : ' '.join(Activity.split()[4:]),\n",
    "            'Events' : ' '.join(Events.split()[1:])\n",
    "        }\n",
    "        return(dic)"
   ]
  },
  {
   "cell_type": "code",
   "execution_count": 142,
   "metadata": {},
   "outputs": [],
   "source": [
    "p=profile('aircision')"
   ]
  },
  {
   "cell_type": "code",
   "execution_count": 143,
   "metadata": {},
   "outputs": [],
   "source": [
    "p.get_browser()"
   ]
  },
  {
   "cell_type": "code",
   "execution_count": 144,
   "metadata": {},
   "outputs": [
    {
     "output_type": "execute_result",
     "data": {
      "text/plain": [
       "{'About': 'Aircision is powering the high-speed connect world, using optical wireless communication systems to connect cell towers. Eindhoven, Noord-Brabant, The Netherlands 1-10 Private www.aircision.com/ 156,526',\n",
       " 'Highlights': '',\n",
       " 'Details': 'Industries Network Hardware Optical Communication Telecommunications Wireless Headquarters Regions European Union (EU) Founded Date Mar 22, 2019 Founders Betsy Lindsey, Luis Pedro Oliveira Operating Status Active Company Type For Profit Contact Email info@aircision.com'}"
      ]
     },
     "metadata": {},
     "execution_count": 144
    }
   ],
   "source": [
    "p.summary()"
   ]
  },
  {
   "cell_type": "code",
   "execution_count": 145,
   "metadata": {},
   "outputs": [
    {
     "output_type": "execute_result",
     "data": {
      "text/plain": [
       "{'Fundings': ''}"
      ]
     },
     "metadata": {},
     "execution_count": 145
    }
   ],
   "source": [
    "p.financial()"
   ]
  },
  {
   "cell_type": "code",
   "execution_count": 146,
   "metadata": {},
   "outputs": [
    {
     "output_type": "execute_result",
     "data": {
      "text/plain": [
       "{'Team': ''}"
      ]
     },
     "metadata": {},
     "execution_count": 146
    }
   ],
   "source": [
    "p.people()"
   ]
  },
  {
   "cell_type": "code",
   "execution_count": 147,
   "metadata": {},
   "outputs": [
    {
     "output_type": "execute_result",
     "data": {
      "text/plain": [
       "{'Activity': '', 'Events': ''}"
      ]
     },
     "metadata": {},
     "execution_count": 147
    }
   ],
   "source": [
    "p.news()"
   ]
  },
  {
   "cell_type": "code",
   "execution_count": 148,
   "metadata": {},
   "outputs": [
    {
     "output_type": "execute_result",
     "data": {
      "text/plain": [
       "{'Technology': 'Aircision is actively using 5 technologies for its website, according to BuiltWith. These include Google Font API, nginx, and OpenResty.'}"
      ]
     },
     "metadata": {},
     "execution_count": 148
    }
   ],
   "source": [
    "p.technology()"
   ]
  },
  {
   "cell_type": "code",
   "execution_count": 152,
   "metadata": {},
   "outputs": [],
   "source": [
    "dicc={}\n",
    "dicc.update(p.summury())\n",
    "dicc.update(p.Technology())\n",
    "dicc.update(p.News())\n",
    "dicc.update(p.People())\n",
    "dicc.update(p.financial())"
   ]
  },
  {
   "cell_type": "code",
   "execution_count": 5,
   "metadata": {},
   "outputs": [
    {
     "output_type": "error",
     "ename": "SyntaxError",
     "evalue": "cannot assign to operator (<ipython-input-5-9e503220433a>, line 1)",
     "traceback": [
      "\u001b[1;36m  File \u001b[1;32m\"<ipython-input-5-9e503220433a>\"\u001b[1;36m, line \u001b[1;32m1\u001b[0m\n\u001b[1;33m    startup+'0' = \"hh\"\u001b[0m\n\u001b[1;37m    ^\u001b[0m\n\u001b[1;31mSyntaxError\u001b[0m\u001b[1;31m:\u001b[0m cannot assign to operator\n"
     ]
    }
   ],
   "source": [
    "startup+'0' = \"hh\""
   ]
  },
  {
   "cell_type": "code",
   "execution_count": 23,
   "metadata": {},
   "outputs": [
    {
     "output_type": "execute_result",
     "data": {
      "text/plain": [
       "0"
      ]
     },
     "metadata": {},
     "execution_count": 23
    }
   ],
   "source": [
    "(len(startup_list_1)//5)*5"
   ]
  },
  {
   "cell_type": "code",
   "execution_count": 33,
   "metadata": {},
   "outputs": [
    {
     "output_type": "stream",
     "name": "stdout",
     "text": [
      "0\n5\n"
     ]
    }
   ],
   "source": [
    "startup_list_1 = ['','','','','','','','','','','','']\n",
    "#startup_list_1 = []\n",
    "for i in range(0,(len(startup_list_1)//5)*5,5):\n",
    "    print(i)"
   ]
  },
  {
   "cell_type": "code",
   "execution_count": 32,
   "metadata": {},
   "outputs": [
    {
     "output_type": "execute_result",
     "data": {
      "text/plain": [
       "2"
      ]
     },
     "metadata": {},
     "execution_count": 32
    }
   ],
   "source": [
    "7 % 5"
   ]
  }
 ],
 "metadata": {
  "kernelspec": {
   "name": "python3",
   "display_name": "Python 3.8.2 32-bit",
   "metadata": {
    "interpreter": {
     "hash": "130f4b44e65cf0e27ee1b8b80cb4c45dfcdab69167499e73d18afe709ceac731"
    }
   }
  }
 },
 "nbformat": 4,
 "nbformat_minor": 4
}