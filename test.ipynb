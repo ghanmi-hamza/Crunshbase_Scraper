{
 "cells": [
  {
   "cell_type": "code",
   "execution_count": 4,
   "metadata": {},
   "outputs": [],
   "source": [
    "from selenium import webdriver\n",
    "from selenium.webdriver.common.by import By\n",
    "from selenium.webdriver.chrome.options import Options\n",
    "from selenium.webdriver.firefox.options import Options"
   ]
  },
  {
   "cell_type": "code",
   "execution_count": 6,
   "metadata": {},
   "outputs": [],
   "source": [
    "options = webdriver.firefox.options.Options()\n",
    "        #options.headless = True   C:\\Users\\hamza\\Downloads\\geckodriver-v0.29.0-win64\n",
    "driver = webdriver.Firefox(executable_path=r\"C:\\Users\\hamza\\Downloads\\geckodriver-v0.29.0-win64\\geckodriver.exe\", options=options)\n",
    "driver.get('https://www.crunchbase.com/organization/instadeep')"
   ]
  },
  {
   "cell_type": "code",
   "execution_count": 38,
   "metadata": {},
   "outputs": [],
   "source": [
    "driver.get('https://www.crunchbase.com/organization/aircision')"
   ]
  },
  {
   "cell_type": "code",
   "execution_count": 62,
   "metadata": {},
   "outputs": [
    {
     "output_type": "execute_result",
     "data": {
      "text/plain": [
       "{'About': 'Aircision is powering the high-speed connect world, using optical wireless communication systems to connect cell towers. Eindhoven, Noord-Brabant, The Netherlands 1-10 Private www.aircision.com/ 155,600',\n",
       " 'Highlights': '',\n",
       " 'Details': 'Industries Network Hardware Optical Communication Telecommunications Wireless Headquarters Regions European Union (EU) Founded Date Mar 22, 2019 Founders Betsy Lindsey, Luis Pedro Oliveira Operating Status Active Company Type For Profit Contact Email info@aircision.com'}"
      ]
     },
     "metadata": {},
     "execution_count": 62
    }
   ],
   "source": [
    "def summury(driver):\n",
    "    elem0 = driver.find_element_by_xpath(\".//*[@id= 'company_overview_about']\")\n",
    "    About = elem0.find_element_by_xpath('..').text\n",
    "\n",
    "    try: \n",
    "        elem1 = driver.find_element_by_xpath(\".//*[@id= 'company_overview_highlights']\")\n",
    "        Highlights = elem1.find_element_by_xpath('..').text\n",
    "    except :\n",
    "        Highlights = ''\n",
    "\n",
    "    elem2 = driver.find_element_by_xpath(\".//*[@id= 'overview_default_view']\")\n",
    "    Details = elem2.find_element_by_xpath('..').text\n",
    "    dic = {\n",
    "        'About' : ' '.join(About.split()[1:]),\n",
    "        'Highlights' : ' '.join(Highlights.split()[1:]),\n",
    "        'Details' : ' '.join(Details.split()[1:])\n",
    "    }\n",
    "    return(dic)\n",
    "summury(driver)"
   ]
  },
  {
   "cell_type": "code",
   "execution_count": 65,
   "metadata": {},
   "outputs": [
    {
     "output_type": "execute_result",
     "data": {
      "text/plain": [
       "'InstaDeep - Crunchbase Company Profile & Funding'"
      ]
     },
     "metadata": {},
     "execution_count": 65
    }
   ],
   "source": [
    "driver.title"
   ]
  },
  {
   "cell_type": "code",
   "execution_count": 67,
   "metadata": {},
   "outputs": [
    {
     "output_type": "execute_result",
     "data": {
      "text/plain": [
       "{'Fundings': 'InstaDeep has raised a total of $7M in funding over 3 rounds. Their latest funding was raised on May 9, 2019 from a Series A round. InstaDeep is funded by 5 investors. AfricInvest and Endeavor Catalyst are the most recent investors.'}"
      ]
     },
     "metadata": {},
     "execution_count": 67
    }
   ],
   "source": [
    "def financial(driver):\n",
    "    \n",
    "    try: \n",
    "        elem1 = driver.find_element_by_xpath(\".//*[@id= 'company_financials_about']\")\n",
    "        Fundings = elem1.find_element_by_xpath('..').text\n",
    "    except :\n",
    "        Fundings = ''\n",
    "    dic = {\n",
    "        'Fundings' : ' '.join(Fundings.split()[1:]),\n",
    "    }\n",
    "    return(dic)\n",
    "financial(driver)"
   ]
  },
  {
   "cell_type": "code",
   "execution_count": 76,
   "metadata": {},
   "outputs": [
    {
     "output_type": "execute_result",
     "data": {
      "text/plain": [
       "{'Team': 'Number of Current Team Members 3 InstaDeep has 3 current team members, including Co-Founder & CEO Karim Beguir. Karim Beguir Co-Founder & CEO Zohra Slim Co-Founder and CD&VO Isabelle Levard Group CFO'}"
      ]
     },
     "metadata": {},
     "execution_count": 76
    }
   ],
   "source": [
    "def People(driver):\n",
    "    try: \n",
    "        elem1 = driver.find_element_by_xpath(\".//*[@id= 'current_employees']\")\n",
    "        team = elem1.find_element_by_xpath('..').text\n",
    "    except :\n",
    "        team = ''\n",
    "    dic = {\n",
    "        'Team' : ' '.join(team.split()[2:]),\n",
    "    }\n",
    "    return(dic)\n",
    "People(driver)"
   ]
  },
  {
   "cell_type": "code",
   "execution_count": 77,
   "metadata": {},
   "outputs": [
    {
     "output_type": "execute_result",
     "data": {
      "text/plain": [
       "{'Team': 'InstaDeep is actively using 40 technologies for its website, according to BuiltWith. These include Viewport Meta, IPhone / Mobile Compatible, and SPF.'}"
      ]
     },
     "metadata": {},
     "execution_count": 77
    }
   ],
   "source": [
    "def Technology(driver):\n",
    "    try: \n",
    "        elem1 = driver.find_element_by_xpath(\".//*[@id= 'technology_about']\")\n",
    "        technology = elem1.find_element_by_xpath('..').text\n",
    "    except :\n",
    "        team = ''\n",
    "    dic = {\n",
    "        'Technology' : ' '.join(technology.split()[1:]),\n",
    "    }\n",
    "    return(dic)\n",
    "Technology(driver)"
   ]
  },
  {
   "cell_type": "code",
   "execution_count": 86,
   "metadata": {},
   "outputs": [
    {
     "output_type": "execute_result",
     "data": {
      "text/plain": [
       "{'Activity': 'There is no recent news or activity for this profile.',\n",
       " 'Events': ''}"
      ]
     },
     "metadata": {},
     "execution_count": 86
    }
   ],
   "source": [
    "def News(driver):\n",
    "    try : \n",
    "        elem0 = driver.find_element_by_xpath(\".//*[@id= 'timeline']\")\n",
    "        Activity = elem0.find_element_by_xpath('..').text\n",
    "    except :\n",
    "        Activity = ''\n",
    "\n",
    "    try : \n",
    "        elem2 = driver.find_element_by_xpath(\".//*[@id= 'events']\")\n",
    "        Events = elem2.find_element_by_xpath('..').text\n",
    "    except : \n",
    "        Events = ''\n",
    "    dic = {\n",
    "        'Activity' : ' '.join(Activity.split()[4:]),\n",
    "        'Events' : ' '.join(Events.split()[1:])\n",
    "    }\n",
    "    return(dic)\n",
    "News(driver)"
   ]
  },
  {
   "cell_type": "code",
   "execution_count": 141,
   "metadata": {},
   "outputs": [],
   "source": [
    "class Profile:\n",
    "\n",
    "    def __init__(self,name=''):\n",
    "        self.name=name\n",
    "        \n",
    "        pass\n",
    "\n",
    "    def get_browser(self):\n",
    "        options = webdriver.firefox.options.Options()\n",
    "        #options.headless = True\n",
    "        self.driver = webdriver.Firefox(executable_path=r\"C:\\Users\\hamza\\Downloads\\geckodriver-v0.29.0-win64\\geckodriver.exe\", options=options)\n",
    "        #self.driver.get('https://www.crunchbase.com/organization/'+str(self.name))\n",
    "    def summary(self):\n",
    "        self.driver.get('https://www.crunchbase.com/organization/'+str(self.name))\n",
    "        elem0 = self.driver.find_element_by_xpath(\".//*[@id= 'company_overview_about']\")\n",
    "        About = elem0.find_element_by_xpath('..').text\n",
    "\n",
    "        try: \n",
    "            elem1 = self.driver.find_element_by_xpath(\".//*[@id= 'company_overview_highlights']\")\n",
    "            Highlights = elem1.find_element_by_xpath('..').text\n",
    "        except :\n",
    "            Highlights = ''\n",
    "\n",
    "        elem2 = self.driver.find_element_by_xpath(\".//*[@id= 'overview_default_view']\")\n",
    "        Details = elem2.find_element_by_xpath('..').text\n",
    "        dic = {\n",
    "            'About' : ' '.join(About.split()[1:]),\n",
    "            'Highlights' : ' '.join(Highlights.split()[1:]),\n",
    "            'Details' : ' '.join(Details.split()[1:])\n",
    "        }\n",
    "        return(dic)\n",
    "\n",
    "    def financial(self):\n",
    "        try:\n",
    "            self.driver.get('https://www.crunchbase.com/organization/'+str(self.name)+\"/company_financials\")\n",
    "            try: \n",
    "                elem1 = self.driver.find_element_by_xpath(\".//*[@id= 'company_financials_about']\")\n",
    "                Fundings = elem1.find_element_by_xpath('..').text\n",
    "            except :\n",
    "                Fundings = ''\n",
    "        except:\n",
    "            Fundings = ''\n",
    "        dic = {\n",
    "            'Fundings' : ' '.join(Fundings.split()[1:]),\n",
    "        }\n",
    "        return(dic)\n",
    "    def people(self):\n",
    "        try:\n",
    "            self.driver.get('https://www.crunchbase.com/organization/'+str(self.name)+\"/people\")\n",
    "            try: \n",
    "                elem1 = self.driver.find_element_by_xpath(\".//*[@id= 'current_employees']\")\n",
    "                team = elem1.find_element_by_xpath('..').text\n",
    "            except :\n",
    "                team = ''\n",
    "        except:\n",
    "            team = ''\n",
    "        dic = {\n",
    "            'Team' : ' '.join(team.split()[2:]),\n",
    "        }\n",
    "        return(dic)\n",
    "    def technology(self):\n",
    "        try:\n",
    "            self.driver.get('https://www.crunchbase.com/organization/'+str(self.name)+\"/technology\")\n",
    "            try: \n",
    "                elem1 = self.driver.find_element_by_xpath(\".//*[@id= 'technology_about']\")\n",
    "                technology = elem1.find_element_by_xpath('..').text\n",
    "            except :\n",
    "                technology = ''\n",
    "        except:\n",
    "            technology = ''\n",
    "        dic = {\n",
    "            'Technology' : ' '.join(technology.split()[1:]),\n",
    "        }\n",
    "        return(dic)\n",
    "    def news(self):\n",
    "        self.driver.get('https://www.crunchbase.com/organization/'+str(self.name)+\"/signals_and_news\")\n",
    "        try : \n",
    "            elem0 = self.driver.find_element_by_xpath(\".//*[@id= 'timeline']\")\n",
    "            Activity = elem0.find_element_by_xpath('..').text\n",
    "        except :\n",
    "            Activity = ''\n",
    "\n",
    "        try : \n",
    "            elem2 = self.driver.find_element_by_xpath(\".//*[@id= 'events']\")\n",
    "            Events = elem2.find_element_by_xpath('..').text\n",
    "        except : \n",
    "            Events = ''\n",
    "        dic = {\n",
    "            'Activity' : ' '.join(Activity.split()[4:]),\n",
    "            'Events' : ' '.join(Events.split()[1:])\n",
    "        }\n",
    "        return(dic)"
   ]
  },
  {
   "cell_type": "code",
   "execution_count": 142,
   "metadata": {},
   "outputs": [],
   "source": [
    "p=profile('aircision')"
   ]
  },
  {
   "cell_type": "code",
   "execution_count": 143,
   "metadata": {},
   "outputs": [],
   "source": [
    "p.get_browser()"
   ]
  },
  {
   "cell_type": "code",
   "execution_count": 144,
   "metadata": {},
   "outputs": [
    {
     "output_type": "execute_result",
     "data": {
      "text/plain": [
       "{'About': 'Aircision is powering the high-speed connect world, using optical wireless communication systems to connect cell towers. Eindhoven, Noord-Brabant, The Netherlands 1-10 Private www.aircision.com/ 156,526',\n",
       " 'Highlights': '',\n",
       " 'Details': 'Industries Network Hardware Optical Communication Telecommunications Wireless Headquarters Regions European Union (EU) Founded Date Mar 22, 2019 Founders Betsy Lindsey, Luis Pedro Oliveira Operating Status Active Company Type For Profit Contact Email info@aircision.com'}"
      ]
     },
     "metadata": {},
     "execution_count": 144
    }
   ],
   "source": [
    "p.summary()"
   ]
  },
  {
   "cell_type": "code",
   "execution_count": 145,
   "metadata": {},
   "outputs": [
    {
     "output_type": "execute_result",
     "data": {
      "text/plain": [
       "{'Fundings': ''}"
      ]
     },
     "metadata": {},
     "execution_count": 145
    }
   ],
   "source": [
    "p.financial()"
   ]
  },
  {
   "cell_type": "code",
   "execution_count": 146,
   "metadata": {},
   "outputs": [
    {
     "output_type": "execute_result",
     "data": {
      "text/plain": [
       "{'Team': ''}"
      ]
     },
     "metadata": {},
     "execution_count": 146
    }
   ],
   "source": [
    "p.people()"
   ]
  },
  {
   "cell_type": "code",
   "execution_count": 147,
   "metadata": {},
   "outputs": [
    {
     "output_type": "execute_result",
     "data": {
      "text/plain": [
       "{'Activity': '', 'Events': ''}"
      ]
     },
     "metadata": {},
     "execution_count": 147
    }
   ],
   "source": [
    "p.news()"
   ]
  },
  {
   "cell_type": "code",
   "execution_count": 148,
   "metadata": {},
   "outputs": [
    {
     "output_type": "execute_result",
     "data": {
      "text/plain": [
       "{'Technology': 'Aircision is actively using 5 technologies for its website, according to BuiltWith. These include Google Font API, nginx, and OpenResty.'}"
      ]
     },
     "metadata": {},
     "execution_count": 148
    }
   ],
   "source": [
    "p.technology()"
   ]
  },
  {
   "cell_type": "code",
   "execution_count": 152,
   "metadata": {},
   "outputs": [],
   "source": [
    "dicc={}\n",
    "dicc.update(p.summury())\n",
    "dicc.update(p.Technology())\n",
    "dicc.update(p.News())\n",
    "dicc.update(p.People())\n",
    "dicc.update(p.financial())"
   ]
  },
  {
   "cell_type": "code",
   "execution_count": 153,
   "metadata": {},
   "outputs": [
    {
     "output_type": "execute_result",
     "data": {
      "text/plain": [
       "{'About': 'Aircision is powering the high-speed connect world, using optical wireless communication systems to connect cell towers. Eindhoven, Noord-Brabant, The Netherlands 1-10 Private www.aircision.com/ 156,526',\n",
       " 'Highlights': '',\n",
       " 'Details': 'Industries Network Hardware Optical Communication Telecommunications Wireless Headquarters Regions European Union (EU) Founded Date Mar 22, 2019 Founders Betsy Lindsey, Luis Pedro Oliveira Operating Status Active Company Type For Profit Contact Email info@aircision.com',\n",
       " 'Technology': 'Aircision is actively using 5 technologies for its website, according to BuiltWith. These include Google Font API, nginx, and OpenResty.',\n",
       " 'Activity': '',\n",
       " 'Events': '',\n",
       " 'Team': '',\n",
       " 'Fundings': ''}"
      ]
     },
     "metadata": {},
     "execution_count": 153
    }
   ],
   "source": [
    "dicc"
   ]
  }
 ],
 "metadata": {
  "kernelspec": {
   "name": "python3",
   "display_name": "Python 3.8.2 32-bit",
   "metadata": {
    "interpreter": {
     "hash": "130f4b44e65cf0e27ee1b8b80cb4c45dfcdab69167499e73d18afe709ceac731"
    }
   }
  }
 },
 "nbformat": 4,
 "nbformat_minor": 4
}