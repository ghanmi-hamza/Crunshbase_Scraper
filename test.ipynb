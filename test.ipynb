{
 "cells": [
  {
   "cell_type": "code",
   "execution_count": 1,
   "metadata": {},
   "outputs": [],
   "source": [
    "from selenium import webdriver\n",
    "from selenium.webdriver.common.by import By\n",
    "from selenium.webdriver.chrome.options import Options\n",
    "from selenium.webdriver.firefox.options import Options"
   ]
  },
  {
   "cell_type": "code",
   "execution_count": 2,
   "metadata": {},
   "outputs": [],
   "source": [
    "options = webdriver.firefox.options.Options()\n",
    "        #options.headless = True   C:\\Users\\hamza\\Downloads\\geckodriver-v0.29.0-win64\n",
    "driver = webdriver.Firefox(executable_path=r\"C:\\Users\\hamza\\Downloads\\geckodriver-v0.29.0-win64\\geckodriver.exe\", options=options)\n",
    "driver.get('https://www.crunchbase.com/organization/aircision')"
   ]
  },
  {
   "cell_type": "code",
   "execution_count": 45,
   "metadata": {},
   "outputs": [],
   "source": [
    "    elem0 = driver.find_elements_by_xpath(\".//div[contains(@class, 'styles_component_')]/ul/li/ul/li\")  \n",
    "    elem1 = driver.find_element_by_xpath(\".//dt/div[contains(@class, 'styles_component_')]/ul/li/a\").get_attribute(\"href\") "
   ]
  },
  {
   "cell_type": "code",
   "execution_count": 46,
   "metadata": {},
   "outputs": [
    {
     "output_type": "execute_result",
     "data": {
      "text/plain": [
       "['https://twitter.com/hellolanding',\n",
       " 'https://www.facebook.com/hellolanding',\n",
       " 'https://www.linkedin.com/company/hellolanding/about/',\n",
       " 'https://www.hellolanding.com/']"
      ]
     },
     "metadata": {},
     "execution_count": 46
    }
   ],
   "source": [
    "\n",
    "[e.find_element_by_xpath(\".//a\").get_attribute(\"href\") for e in elem0]+[elem1]"
   ]
  },
  {
   "cell_type": "code",
   "execution_count": 55,
   "metadata": {},
   "outputs": [],
   "source": [
    "Locations = driver.find_elements_by_xpath(\".//dt\")[1].text\n",
    "Company_size = driver.find_elements_by_xpath(\".//dt\")[2].text\n",
    "Total_raised = driver.find_elements_by_xpath(\".//dt\")[3].text\n",
    "Market = driver.find_elements_by_xpath(\".//dt\")[4].text"
   ]
  },
  {
   "cell_type": "code",
   "execution_count": 60,
   "metadata": {},
   "outputs": [
    {
     "output_type": "execute_result",
     "data": {
      "text/plain": [
       "'Zocdoc is the tech company at the beginning of a better healthcare experience. Each month, millions of patients use Zocdoc to find in-network neighborhood doctors, instantly book appointments online, see what other real patients have to say, get reminders for upcoming appointments and preventive check-ups, fill out their paperwork online, and more. With a mission to give power to the patient, Zocdoc’s online marketplace delivers the accessible, seamless, and simple experience patients expect and deserve.'"
      ]
     },
     "metadata": {},
     "execution_count": 60
    }
   ],
   "source": [
    "description = driver.find_element_by_xpath(\".//div[@class= 'styles_description__34Ra7']/div\").text\n",
    "description"
   ]
  },
  {
   "cell_type": "code",
   "execution_count": 58,
   "metadata": {},
   "outputs": [
    {
     "output_type": "execute_result",
     "data": {
      "text/plain": [
       "[]"
      ]
     },
     "metadata": {},
     "execution_count": 58
    }
   ],
   "source": [
    "driver.find_elements_by_xpath(\".//div[contains(@class, 'styles_component__')]/div/button\")"
   ]
  },
  {
   "cell_type": "code",
   "execution_count": 92,
   "metadata": {},
   "outputs": [
    {
     "output_type": "execute_result",
     "data": {
      "text/plain": [
       "'Website'"
      ]
     },
     "metadata": {},
     "execution_count": 92
    }
   ],
   "source": [
    "\n",
    "driver.find_elements_by_xpath(\".//div[contains(@class, 'styles_component_')]/dl/dd\")[0].text"
   ]
  },
  {
   "cell_type": "code",
   "execution_count": 95,
   "metadata": {},
   "outputs": [
    {
     "output_type": "execute_result",
     "data": {
      "text/plain": [
       "{'Description': '', 'Company_links': ''}"
      ]
     },
     "metadata": {},
     "execution_count": 95
    }
   ],
   "source": [
    "def summury(driver):\n",
    "    dic1 = {}\n",
    "    l1 = driver.find_elements_by_xpath(\".//div[contains(@class, 'styles_component_')]/dl/dd\")\n",
    "    l2 = driver.find_elements_by_xpath(\".//div[contains(@class, 'styles_component_')]/dl/dt\")\n",
    "    for i in range(len(l1)):\n",
    "        dic1[l1[i].text] = l2[i].text\n",
    "    try:\n",
    "        Description = driver.find_element_by_xpath(\".//div[@class= 'styles_description__34Ra7']/div\").text\n",
    "    except:\n",
    "        Description = ''\n",
    "    try:\n",
    "        elem0 = driver.find_elements_by_xpath(\".//div[contains(@class, 'styles_component_')]/ul/li/ul/li\")  \n",
    "        elem1 = driver.find_element_by_xpath(\".//dt/div[contains(@class, 'styles_component_')]/ul/li/a\").get_attribute(\"href\") \n",
    "        Company_links = [e.find_element_by_xpath(\".//a\").get_attribute(\"href\") for e in elem0]+[elem1]\n",
    "    except:\n",
    "        Company_links = ''\n",
    "    \n",
    "    dic = {\n",
    "        'Description' : Description,\n",
    "        'Company_links' : Company_links\n",
    "    }\n",
    "    dic.update(dic1)\n",
    "    return(dic)\n",
    "summury(driver)"
   ]
  },
  {
   "cell_type": "code",
   "execution_count": 15,
   "metadata": {},
   "outputs": [
    {
     "output_type": "execute_result",
     "data": {
      "text/plain": [
       "{'about_description': 'InstaDeep host of AI solutions, ranging from optimized pattern-recognition, GPU-accelerated insights, self-learning decision making systems.',\n",
       " 'detail_description': 'InstaDeep harnesses the power of Artificial Intelligence to create systems that can make decisions on their own, based on their own autonomous training. Many fields can benefit greatly from this technology, be it robotics, mobility, logistics, finance or healthcare.',\n",
       " 'description_list': ['London, England, United Kingdom',\n",
       "  '11-50',\n",
       "  'Series A',\n",
       "  'Private',\n",
       "  'www.instadeep.com/',\n",
       "  '9,763'],\n",
       " 'industries': 'Artificial Intelligence',\n",
       " 'founded_date': 'Oct 8, 2015',\n",
       " 'founders': 'Karim Beguir, Zohra Slim',\n",
       " 'operating_status': 'Active',\n",
       " 'last_funding_type': 'Series A',\n",
       " 'legal_name': 'InstaDeep Ltd',\n",
       " 'company_type': 'For Profit',\n",
       " 'contact_email': 'hello@instadeep.com',\n",
       " 'phone_number': '+44 207 193 6553'}"
      ]
     },
     "metadata": {},
     "execution_count": 15
    }
   ],
   "source": [
    "    def summary(driver):\n",
    "        #driver.get('https://www.crunchbase.com/organization/'+str(self.name))\n",
    "        try :\n",
    "            elem0 = driver.find_element_by_xpath(\".//*[@id= 'company_overview_about']\")\n",
    "        except :\n",
    "            elem0 = driver.find_element_by_xpath(\".//*[@id= 'investor_overview_about']\")\n",
    "        #elem0 = self.driver.find_element_by_xpath(\".//span[contains(@id, 'overview_about')]\")\n",
    "        elm = elem0.find_element_by_xpath('..')\n",
    "        description1 = elm.find_element_by_xpath(\".//*[@class= 'description']\").text   \n",
    "        about_list = [e.text for e in elm.find_elements_by_xpath(\".//ul[@class= 'icon_and_value']/li\")]\n",
    "        \n",
    "\n",
    "        try :\n",
    "            elem2 = driver.find_element_by_xpath(\".//span[@id= 'overview_default_view']\")\n",
    "        except :   \n",
    "            elem2 = driver.find_element_by_xpath(\".//span[@id= 'overview_investor_view']\")\n",
    "        elm = elem2.find_element_by_xpath('..')\n",
    "        try :\n",
    "            description2 = elm.find_element_by_xpath(\".//*[contains(@class, 'description')]\").text\n",
    "        except :\n",
    "            description2 = ''\n",
    "         \n",
    "        Details = {}\n",
    "        for e in  elm.find_elements_by_xpath(\".//*[@class= 'text_and_value']/li\"): \n",
    "            key = e.text.split(' \\n')[0]\n",
    "            key = key.lower()\n",
    "            key= re.sub(' ', '_', key)\n",
    "            Details[key] = ' '.join(e.text.split(' \\n')[1:])\n",
    "        dic = {\n",
    "            'about_description' : description1 ,\n",
    "            'detail_description' : description2,\n",
    "            'description_list' : about_list\n",
    "        }\n",
    "        dic.update(Details)\n",
    "        return(dic)\n",
    "    import re\n",
    "    summary(driver)"
   ]
  },
  {
   "cell_type": "code",
   "execution_count": 18,
   "metadata": {},
   "outputs": [
    {
     "output_type": "execute_result",
     "data": {
      "text/plain": [
       "['Company Type', 'For Profit']"
      ]
     },
     "metadata": {},
     "execution_count": 18
    }
   ],
   "source": [
    "'Company Type \\nFor Profit'.split(' \\n')"
   ]
  },
  {
   "cell_type": "code",
   "execution_count": 63,
   "metadata": {},
   "outputs": [
    {
     "output_type": "execute_result",
     "data": {
      "text/plain": [
       "'Zocdoc | AngelList Talent'"
      ]
     },
     "metadata": {},
     "execution_count": 63
    }
   ],
   "source": [
    "driver.title"
   ]
  },
  {
   "cell_type": "code",
   "execution_count": 81,
   "metadata": {},
   "outputs": [
    {
     "output_type": "execute_result",
     "data": {
      "text/plain": [
       "[{'name': 'M Caleap',\n",
       "  'role': 'Founder • 2 years',\n",
       "  'profile_url': 'https://angel.co/u/mihai-caleap'}]"
      ]
     },
     "metadata": {},
     "execution_count": 81
    }
   ],
   "source": [
    "elem0 = driver.find_elements_by_xpath(\".//div[contains(@class, 'styles_component__10HIE')]/div\")  \n",
    "len(elem0)\n",
    "[{\"name\" : e.text.split('\\n')[0]} for e in elem0]\n",
    "[{\"name\" : e.text.split('\\n')[0],\"role\" : e.text.split('\\n')[1],\"profile_url\" : e.find_element_by_xpath(\".//a\").get_attribute(\"href\")} for e in elem0]"
   ]
  },
  {
   "cell_type": "code",
   "execution_count": 80,
   "metadata": {},
   "outputs": [
    {
     "output_type": "execute_result",
     "data": {
      "text/plain": [
       "{'Team': [{'name': 'M Caleap',\n",
       "   'role': 'Founder • 2 years',\n",
       "   'profile_url': 'https://angel.co/u/mihai-caleap'}]}"
      ]
     },
     "metadata": {},
     "execution_count": 80
    }
   ],
   "source": [
    "def People(driver):\n",
    "    \n",
    "    elem0 = driver.find_elements_by_xpath(\".//div[contains(@class, 'styles_component__10HIE')]/div\")  \n",
    "    try:\n",
    "        team = [{\"name\" : e.text.split('\\n')[0],\"role\" : e.text.split('\\n')[1],\"profile_url\" : e.find_element_by_xpath(\".//a\").get_attribute(\"href\")} for e in elem0]\n",
    "    except:\n",
    "        team = ''\n",
    "    dic = {'Team' : team}\n",
    "    return(dic)\n",
    "People(driver)"
   ]
  },
  {
   "cell_type": "code",
   "execution_count": 217,
   "metadata": {},
   "outputs": [
    {
     "output_type": "execute_result",
     "data": {
      "text/plain": [
       "{'Number of Lead Investments ': '1',\n",
       " 'Number of Investments ': '2',\n",
       " 'Number of Exits ': '1',\n",
       " 'Number of Funding Rounds ': '4',\n",
       " 'Total Funding Amount ': '$4B',\n",
       " 'Number of Lead Investors ': '2'}"
      ]
     },
     "metadata": {},
     "execution_count": 217
    }
   ],
   "source": [
    "data  = {}\n",
    "for e in driver.find_elements_by_xpath(\".//anchored-values/div\"):\n",
    "    data[e.text.split('\\n')[0]] = e.text.split('\\n')[1]\n",
    "data"
   ]
  },
  {
   "cell_type": "code",
   "execution_count": 3,
   "metadata": {},
   "outputs": [
    {
     "output_type": "execute_result",
     "data": {
      "text/plain": [
       "['May 9, 2019\\nSeries A - InstaDeep\\n2\\n$7M\\nAfricInvest',\n",
       " 'Feb 13, 2019\\nNon Equity Assistance - InstaDeep\\n1\\n—\\n—',\n",
       " 'Jan 1, 2017\\nSeed Round - InstaDeep\\n2\\n—\\n—']"
      ]
     },
     "metadata": {},
     "execution_count": 3
    }
   ],
   "source": [
    "elm = driver.find_element_by_xpath(\".//span[@id= 'funding_rounds']/..\")\n",
    "elm1 = elm.find_elements_by_xpath(\".//div/div[@class= 'section-content']/list-card/div/table[@class= 'card-grid']/tbody/tr\")\n",
    "[e.text for e in elm1]"
   ]
  },
  {
   "cell_type": "code",
   "execution_count": 4,
   "metadata": {},
   "outputs": [
    {
     "output_type": "execute_result",
     "data": {
      "text/plain": [
       "[{'announced_date': 'May 9, 2019',\n",
       "  'transaction_name': 'Series A - InstaDeep',\n",
       "  'transaction_link': 'https://www.crunchbase.com/funding_round/instadeep-series-a--53de9b88',\n",
       "  'investors': '2',\n",
       "  'money_raised': '$7M',\n",
       "  'lead_investor': {'name': 'AfricInvest', 'link': None}},\n",
       " {'announced_date': 'Feb 13, 2019',\n",
       "  'transaction_name': 'Non Equity Assistance - InstaDeep',\n",
       "  'transaction_link': 'https://www.crunchbase.com/funding_round/instadeep-non-equity-assistance--b76eeea7',\n",
       "  'investors': '1',\n",
       "  'money_raised': '—',\n",
       "  'lead_investor': {'name': '—', 'link': None}},\n",
       " {'announced_date': 'Jan 1, 2017',\n",
       "  'transaction_name': 'Seed Round - InstaDeep',\n",
       "  'transaction_link': 'https://www.crunchbase.com/funding_round/instadeep-seed--339b0805',\n",
       "  'investors': '2',\n",
       "  'money_raised': '—',\n",
       "  'lead_investor': {'name': '—', 'link': None}}]"
      ]
     },
     "metadata": {},
     "execution_count": 4
    }
   ],
   "source": [
    "li = []\n",
    "for e in elm1:\n",
    "    li.append({\"announced_date\":e.find_elements_by_xpath(\".//td\")[0].text,\n",
    "               \"transaction_name\":e.find_elements_by_xpath(\".//td\")[1].text,\n",
    "               \"transaction_link\":e.find_elements_by_xpath(\".//td\")[1].find_element_by_xpath(\".//*/*/a\").get_attribute('href'),\n",
    "               \"investors\":e.find_elements_by_xpath(\".//td\")[2].text,\n",
    "               \"money_raised\":e.find_elements_by_xpath(\".//td\")[3].text,\n",
    "               \"lead_investor\":{\"name\":e.find_elements_by_xpath(\".//td\")[4].text,\n",
    "                                \"link\": e.find_elements_by_xpath(\".//td\")[4].find_element_by_xpath(\".//*\").get_attribute('href')} })\n",
    "li"
   ]
  },
  {
   "cell_type": "code",
   "execution_count": 6,
   "metadata": {},
   "outputs": [
    {
     "output_type": "execute_result",
     "data": {
      "text/plain": [
       "{'funding_rounds_info': {'Number of Funding Rounds ': '3',\n",
       "  'Total Funding Amount ': '$7M',\n",
       "  'Number of Lead Investors ': '1',\n",
       "  'Number of Investors ': '5'},\n",
       " 'rounds': [{'announced_date': 'May 9, 2019',\n",
       "   'transaction_name': 'Series A - InstaDeep',\n",
       "   'transaction_link': 'https://www.crunchbase.com/funding_round/instadeep-series-a--53de9b88',\n",
       "   'investors': '2',\n",
       "   'money_raised': '$7M',\n",
       "   'lead_investor': {'name': 'AfricInvest', 'link': None}},\n",
       "  {'announced_date': 'Feb 13, 2019',\n",
       "   'transaction_name': 'Non Equity Assistance - InstaDeep',\n",
       "   'transaction_link': 'https://www.crunchbase.com/funding_round/instadeep-non-equity-assistance--b76eeea7',\n",
       "   'investors': '1',\n",
       "   'money_raised': '—',\n",
       "   'lead_investor': {'name': '—', 'link': None}},\n",
       "  {'announced_date': 'Jan 1, 2017',\n",
       "   'transaction_name': 'Seed Round - InstaDeep',\n",
       "   'transaction_link': 'https://www.crunchbase.com/funding_round/instadeep-seed--339b0805',\n",
       "   'investors': '2',\n",
       "   'money_raised': '—',\n",
       "   'lead_investor': {'name': '—', 'link': None}}]}"
      ]
     },
     "metadata": {},
     "execution_count": 6
    }
   ],
   "source": [
    "    def financial(driver):\n",
    "        data  = {}\n",
    "        for e in driver.find_elements_by_xpath(\".//anchored-values/div\"):\n",
    "            data[e.text.split('\\n')[0]] = e.text.split('\\n')[1]\n",
    "        \n",
    "        dic = {\n",
    "            'funding_rounds_info' : data\n",
    "        }\n",
    "        li = []\n",
    "        elm = driver.find_element_by_xpath(\".//span[@id= 'funding_rounds']/..\")\n",
    "        elm1 = elm.find_elements_by_xpath(\".//div/div[@class= 'section-content']/list-card/div/table[@class= 'card-grid']/tbody/tr\")\n",
    "        for e in elm1:\n",
    "            li.append({\"announced_date\":e.find_elements_by_xpath(\".//td\")[0].text,\n",
    "                    \"transaction_name\":e.find_elements_by_xpath(\".//td\")[1].text,\n",
    "                    \"transaction_link\":e.find_elements_by_xpath(\".//td\")[1].find_element_by_xpath(\".//*/*/a\").get_attribute('href'),\n",
    "                    \"investors\":e.find_elements_by_xpath(\".//td\")[2].text,\n",
    "                    \"money_raised\":e.find_elements_by_xpath(\".//td\")[3].text,\n",
    "                    \"lead_investor\":{\"name\":e.find_elements_by_xpath(\".//td\")[4].text,\n",
    "                                        \"link\": e.find_elements_by_xpath(\".//td\")[4].find_element_by_xpath(\".//*\").get_attribute('href')} })\n",
    "        dic['rounds'] = li\n",
    "        return(dic)\n",
    "    financial(driver)"
   ]
  },
  {
   "cell_type": "code",
   "execution_count": 74,
   "metadata": {},
   "outputs": [
    {
     "output_type": "execute_result",
     "data": {
      "text/plain": [
       "[{'Active Tech Count ': '35'},\n",
       " {'Monthly Visits ': '835'},\n",
       " {'Monthly Visits Growth ': '-75.48%'}]"
      ]
     },
     "metadata": {},
     "execution_count": 74
    }
   ],
   "source": [
    "[{e.text.split('\\n')[0]:e.text.split('\\n')[1]} for e in driver.find_elements_by_xpath(\".//anchored-values/div\")]"
   ]
  },
  {
   "cell_type": "code",
   "execution_count": 78,
   "metadata": {},
   "outputs": [
    {
     "output_type": "execute_result",
     "data": {
      "text/plain": [
       "{'Active Tech Count ': '35',\n",
       " 'Monthly Visits ': '835',\n",
       " 'Monthly Visits Growth ': '-75.48%'}"
      ]
     },
     "metadata": {},
     "execution_count": 78
    }
   ],
   "source": [
    "data  = {}\n",
    "for e in driver.find_elements_by_xpath(\".//anchored-values/div\"):\n",
    "    data[e.text.split('\\n')[0]] = e.text.split('\\n')[1]\n",
    "data"
   ]
  },
  {
   "cell_type": "code",
   "execution_count": 80,
   "metadata": {},
   "outputs": [
    {
     "output_type": "execute_result",
     "data": {
      "text/plain": [
       "{'technology_info': {'description': 'Infor uses 63 technology products and services including HTML5, Google Analytics, and jQuery, according to G2 Stack. Infor is actively using 104 technologies for its website, according to BuiltWith. These include Viewport Meta, IPhone / Mobile Compatible, and Google Analytics.',\n",
       "  'Total Products Active ': '63',\n",
       "  'Downloads Last 30 Days ': '3,549',\n",
       "  'Active Tech Count ': '104',\n",
       "  'Monthly Visits ': '5,808,393',\n",
       "  'Monthly Visits Growth ': '-0.02%'}}"
      ]
     },
     "metadata": {},
     "execution_count": 80
    }
   ],
   "source": [
    "    def technology(driver):\n",
    "        try:\n",
    "            try: \n",
    "                elem1 = driver.find_element_by_xpath(\".//*[@id= 'technology_about']\")\n",
    "                technology = elem1.find_element_by_xpath('..').text\n",
    "            except :\n",
    "                technology = ''\n",
    "        except:\n",
    "            technology = ''\n",
    "        data  = {}\n",
    "        for e in driver.find_elements_by_xpath(\".//anchored-values/div\"):\n",
    "            data[e.text.split('\\n')[0]] = e.text.split('\\n')[1]\n",
    "        dic = {\n",
    "            'technology_info' : {'description':' '.join(technology.split()[1:])}\n",
    "        }\n",
    "        dic['technology_info'].update(data)\n",
    "        return(dic)\n",
    "    technology(driver)"
   ]
  },
  {
   "cell_type": "code",
   "execution_count": 189,
   "metadata": {},
   "outputs": [
    {
     "output_type": "execute_result",
     "data": {
      "text/plain": [
       "'News'"
      ]
     },
     "metadata": {},
     "execution_count": 189
    }
   ],
   "source": [
    "driver.find_elements_by_xpath(\".//timeline-card/div\")[0].find_element_by_xpath(\".//div[@class= 'activity-title']/span\").text"
   ]
  },
  {
   "cell_type": "code",
   "execution_count": 195,
   "metadata": {},
   "outputs": [
    {
     "output_type": "stream",
     "name": "stdout",
     "text": [
      "0\n",
      "0\n",
      "0\n",
      "0\n",
      "0\n",
      "0\n",
      "0\n",
      "0\n",
      "0\n",
      "0\n"
     ]
    },
    {
     "output_type": "execute_result",
     "data": {
      "text/plain": [
       "[{'type': 'News',\n",
       "  'date': 'Mar 25, 2021',\n",
       "  'source': 'itbrief.co.nz —',\n",
       "  'name': 'The secret ingredients to supply chain tech success',\n",
       "  'link': 'https://itbrief.co.nz/story/the-secret-ingredients-to-supply-chain-tech-success'},\n",
       " {'type': 'News',\n",
       "  'date': 'Mar 25, 2021',\n",
       "  'source': 'AiThority —',\n",
       "  'name': 'Cory Expands Asset Performance Management with Infor',\n",
       "  'link': 'https://aithority.com/?p=234409'},\n",
       " {'type': 'News',\n",
       "  'date': 'Mar 17, 2021',\n",
       "  'source': 'SalesTech Star —',\n",
       "  'name': 'ASRY Modernisation Continues with Infor Cloud-Based Digital Transformation Platform',\n",
       "  'link': 'http://ow.ly/J87F30rB2Oz'},\n",
       " {'type': 'News',\n",
       "  'date': 'Mar 10, 2021',\n",
       "  'source': 'TecHR Series —',\n",
       "  'name': 'Nucleus Research Names Infor a Leader in 2021 HCM Value Matrix',\n",
       "  'link': 'https://techrseries.com/hcm-and-hris/nucleus-research-names-infor-a-leader-in-2021-hcm-value-matrix/'},\n",
       " {'type': 'News',\n",
       "  'date': 'Mar 8, 2021',\n",
       "  'source': 'AiThority —',\n",
       "  'name': 'Infor and C3 AI Form Strategic Partnership to Deliver Scalable Enterprise AI Industry Applications',\n",
       "  'link': 'https://aithority.com/it-and-devops/cloud/infor-and-c3-ai-form-strategic-partnership-to-deliver-scalable-enterprise-ai-industry-applications/'},\n",
       " {'type': 'News',\n",
       "  'date': 'Feb 26, 2021',\n",
       "  'source': 'The Register —',\n",
       "  'name': \"Infor feels the lure of Azure as ERP underdog's customers in retail express reservations about Amazon's cloud\",\n",
       "  'link': 'https://www.theregister.com/2020/04/24/infor_on_azure/'},\n",
       " {'type': 'News',\n",
       "  'date': 'Feb 16, 2021',\n",
       "  'source': 'AiThority —',\n",
       "  'name': 'El Palace Barcelona Books in for Customer Service Excellence with Infor',\n",
       "  'link': 'https://aithority.com/it-and-devops/cloud/el-palace-barcelona-books-in-for-customer-service-excellence-with-infor/'},\n",
       " {'type': 'News',\n",
       "  'date': 'Jan 22, 2021',\n",
       "  'source': 'itbrief.co.nz —',\n",
       "  'name': 'Supply chain, AI and cloud set to dominate corporate tech agendas in 2021',\n",
       "  'link': 'https://itbrief.co.nz/story/supply-chain-ai-and-cloud-set-to-dominate-corporate-tech-agendas-in-2021'},\n",
       " {'type': 'News',\n",
       "  'date': 'Jan 13, 2021',\n",
       "  'source': 'Newswire —',\n",
       "  'name': \"Godlan, Infor SyteLine Manufacturing ERP and Consulting Specialist, Achieves Ranking on Bob Scott's VAR Stars for 2020\",\n",
       "  'link': 'https://www.newswire.com/news/godlan-infor-syteline-manufacturing-erp-and-consulting-specialist-21295238'},\n",
       " {'type': 'News',\n",
       "  'date': 'Jan 13, 2021',\n",
       "  'source': 'Crunchbase News —',\n",
       "  'name': 'Global VC Report 2020: Funding And Exits Blow Past 2019 Despite Pandemic Headwinds',\n",
       "  'link': 'https://news.crunchbase.com/news/global-2020-funding-and-exit/'}]"
      ]
     },
     "metadata": {},
     "execution_count": 195
    }
   ],
   "source": [
    "li = []\n",
    "a=0\n",
    "for e in driver.find_elements_by_xpath(\".//timeline-card/div\")[:10]:\n",
    "    print(a)\n",
    "    typ = e.find_element_by_xpath(\".//div[@class= 'activity-title']/span\").text\n",
    "    dat = e.find_element_by_xpath(\".//div[@class= 'activity-title']/field-formatter\").text\n",
    "    source = e.find_element_by_xpath(\".//div[@class= 'activity-details']/*/div/*\").text\n",
    "    name = e.find_element_by_xpath(\".//a\").text\n",
    "    link = e.find_element_by_xpath(\".//a\").get_attribute('href')\n",
    "    if typ == 'News':\n",
    "        li.append({'type':typ,'date':dat,'source':source,'name':name,'link':link})\n",
    "li"
   ]
  },
  {
   "cell_type": "code",
   "execution_count": 17,
   "metadata": {},
   "outputs": [
    {
     "output_type": "execute_result",
     "data": {
      "text/plain": [
       "{'Activity': [{'type': 'News',\n",
       "   'date': 'Feb 19, 2021',\n",
       "   'source': 'Medium —',\n",
       "   'name': '#SGGlobal21 Startup Program: Accelerate Startups Announced!',\n",
       "   'link': 'https://link.medium.com/yIlUtbV8Ydb'},\n",
       "  {'type': 'News',\n",
       "   'date': 'Jan 27, 2021',\n",
       "   'source': 'AiThority —',\n",
       "   'name': 'Kao Data to Host InstaDeep’s HPC and AI Supercomputer, Expanding R&D Capabilities',\n",
       "   'link': 'https://aithority.com/data-center-and-co-location/kao-data-to-host-instadeeps-hpc-and-ai-supercomputer-expanding-rd-capabilities/'},\n",
       "  {'type': 'News',\n",
       "   'date': 'Jan 26, 2021',\n",
       "   'source': 'ComputerWeekly.com —',\n",
       "   'name': 'Kao Data signs AI-focused life sciences startup InstaDeep as a customer',\n",
       "   'link': 'https://bit.ly/3a69cwT'},\n",
       "  {'type': 'News',\n",
       "   'date': 'Nov 25, 2020',\n",
       "   'source': 'GlobeNewswire News Room —',\n",
       "   'name': 'BioNTech and InstaDeep Announce Strategic Collaboration and Form AI Innovation Lab to Develop Novel Immunotherapies',\n",
       "   'link': 'https://bit.ly/39jljbg'},\n",
       "  {'type': 'News',\n",
       "   'date': 'Sep 4, 2019',\n",
       "   'source': 'Ventureburn —',\n",
       "   'name': 'French government announces initiative to fly three SA tech startups to France',\n",
       "   'link': 'https://ventureburn.com/2019/09/french-government-announces-initiative-to-fly-three-sa-tech-startups-to-france/'},\n",
       "  {'type': 'Funding Round',\n",
       "   'date': 'May 9, 2019',\n",
       "   'content': 'InstaDeep raised $7,000,000 / Series A from AfricInvest and Endeavor CatalystInstaDeep'},\n",
       "  {'type': 'Funding Round',\n",
       "   'date': 'Feb 13, 2019',\n",
       "   'content': 'InstaDeep raised an undisclosed amount / Non Equity Assistance from Plug and PlayInstaDeep'},\n",
       "  {'type': 'Funding Round',\n",
       "   'date': 'Jan 1, 2017',\n",
       "   'content': 'InstaDeep raised an undisclosed amount / Seed from Adam Sadiq and Malek MeslemaniInstaDeep'}],\n",
       " 'Events': [{'name': 'NVIDIA GTC 2021',\n",
       "   'role': 'Exhibitor',\n",
       "   'date': 'Apr 12, 2021',\n",
       "   'image': 'https://res-2.cloudinary.com/crunchbase-production/image/upload/c_lpad,h_85,w_85,f_auto,b_white,q_auto:eco/agi2gqa6nx16gypmwloj',\n",
       "   'link': 'https://www.crunchbase.com/event/nvidia-gtc-2019'},\n",
       "  {'name': 'GTC 2018',\n",
       "   'role': 'Exhibitor',\n",
       "   'date': 'Mar 26, 2018',\n",
       "   'image': 'https://res-1.cloudinary.com/crunchbase-production/image/upload/c_lpad,h_85,w_85,f_auto,b_white,q_auto:eco/nks6ffutbhkvvxzjnvxb',\n",
       "   'link': 'https://www.crunchbase.com/event/gtc-2018'},\n",
       "  {'name': 'MWC Barcelona',\n",
       "   'role': 'Exhibitor',\n",
       "   'date': 'Jun 28, 2014',\n",
       "   'image': 'https://res-5.cloudinary.com/crunchbase-production/image/upload/c_lpad,h_85,w_85,f_auto,b_white,q_auto:eco/cwxsq2uxyyrytixrwmbo',\n",
       "   'link': 'https://www.crunchbase.com/event/mwc-2020-barcelona'}]}"
      ]
     },
     "metadata": {},
     "execution_count": 17
    }
   ],
   "source": [
    "    def news(driver):\n",
    "        #self.driver.get('https://www.crunchbase.com/organization/'+str(self.name)+\"/signals_and_news\")\n",
    "        try : \n",
    "            Activity = []\n",
    "            for e in driver.find_elements_by_xpath(\".//timeline-card/div\")[:10]:\n",
    "                typ = e.find_element_by_xpath(\".//div[@class= 'activity-title']/span\").text\n",
    "                dat = e.find_element_by_xpath(\".//div[@class= 'activity-title']/field-formatter\").text\n",
    "                source = e.find_element_by_xpath(\".//div[@class= 'activity-details']/*/div/*\").text\n",
    "                name = e.find_element_by_xpath(\".//a\").text\n",
    "                link = e.find_element_by_xpath(\".//a\").get_attribute('href')\n",
    "                if typ == 'News':\n",
    "                    Activity.append({'type':typ,'date':dat,'source':source,'name':name,'link':link})\n",
    "                else :\n",
    "                    Activity.append({'type':typ,'date':dat,'content':source+name})\n",
    "        except :\n",
    "            Activity = ''\n",
    "\n",
    "        try : \n",
    "            elem2 = driver.find_element_by_xpath(\".//*[@id= 'events']/..\")\n",
    "            imgs = [e.get_attribute('src') for e in elem2.find_elements_by_xpath(\".//img\")]\n",
    "            names = [{'name':e.text.split('\\n')[0],'role':e.text.split('\\n')[1],'date':e.text.split('\\n')[2]} for e in elem2.find_elements_by_xpath(\".//div[@class= 'fields']\")]\n",
    "            links = [e.get_attribute('href') for e in elem2.find_elements_by_xpath(\".//div[@class= 'fields']/a\")]\n",
    "            for i in range(len(imgs)):\n",
    "               names[i]['image'] =imgs[i]\n",
    "               names[i]['link'] =links[i]\n",
    "\n",
    "        except : \n",
    "            Events = ''\n",
    "        dic = {\n",
    "            'Activity' : Activity,\n",
    "            'Events' : names,\n",
    "            #'Events2' : names\n",
    "        }\n",
    "        return(dic)\n",
    "    news(driver)"
   ]
  },
  {
   "cell_type": "code",
   "execution_count": 210,
   "metadata": {},
   "outputs": [],
   "source": [
    "class Profile:\n",
    "\n",
    "    def __init__(self,name=''):\n",
    "        self.name=name\n",
    "        \n",
    "        pass\n",
    "\n",
    "    def get_browser(self):\n",
    "        options = webdriver.firefox.options.Options()\n",
    "        #options.headless = True\n",
    "        self.driver = webdriver.Firefox(executable_path=r\"C:\\Users\\hamza\\Downloads\\geckodriver-v0.29.0-win64\\geckodriver.exe\", options=options)\n",
    "        #self.driver.get('https://www.crunchbase.com/organization/'+str(self.name))\n",
    "        \n",
    "    def summary(self):\n",
    "        self.driver.get('https://www.crunchbase.com/organization/'+str(self.name))\n",
    "        try :\n",
    "            elem0 = self.driver.find_element_by_xpath(\".//*[@id= 'company_overview_about']\")\n",
    "        except :\n",
    "            elem0 = self.driver.find_element_by_xpath(\".//*[@id= 'investor_overview_about']\")\n",
    "        #elem0 = self.driver.find_element_by_xpath(\".//span[contains(@id, 'overview_about')]\")\n",
    "        elm = elem0.find_element_by_xpath('..')\n",
    "        description1 = elm.find_element_by_xpath(\".//*[@class= 'description']\").text   \n",
    "        about_list = [e.text for e in elm.find_elements_by_xpath(\".//ul[@class= 'icon_and_value']/li\")]\n",
    "        \n",
    "\n",
    "        try :\n",
    "            elem2 = self.driver.find_element_by_xpath(\".//span[@id= 'overview_default_view']\")\n",
    "        except :   \n",
    "            elem2 = self.driver.find_element_by_xpath(\".//span[@id= 'overview_investor_view']\")\n",
    "        elm = elem2.find_element_by_xpath('..')\n",
    "        try :\n",
    "            description2 = elm.find_element_by_xpath(\".//*[contains(@class, 'description')]\").text\n",
    "        except :\n",
    "            description2 = ''\n",
    "         \n",
    "        Details = {}\n",
    "        for e in  elm.find_elements_by_xpath(\".//*[@class= 'text_and_value']/li\"): \n",
    "            Details[e.text.split(' \\n')[0]] = ' '.join(e.text.split(' \\n')[1:])\n",
    "        dic = {\n",
    "            'About_Description' : description1 ,\n",
    "            'Detail_Description' : description2,\n",
    "            'Description_list' : about_list\n",
    "        }\n",
    "        dic.update(Details)\n",
    "        return(dic)\n",
    "\n",
    "    def financial(self):\n",
    "        try:\n",
    "            self.driver.get('https://www.crunchbase.com/organization/'+str(self.name)+\"/company_financials\")\n",
    "            data  = {}\n",
    "            for e in self.driver.find_elements_by_xpath(\".//anchored-values/div\"):\n",
    "                data[e.text.split('\\n')[0]] = e.text.split('\\n')[1]\n",
    "            \n",
    "            dic = {\n",
    "                'funding_rounds_info' : data\n",
    "            }\n",
    "            li = []\n",
    "            for e in elm1:\n",
    "                li.append({\"announced_date\":e.find_elements_by_xpath(\".//td\")[0].text,\n",
    "                        \"transaction_name\":e.find_elements_by_xpath(\".//td\")[1].text,\n",
    "                        \"transaction_link\":e.find_elements_by_xpath(\".//td\")[1].find_element_by_xpath(\".//*/*/a\").get_attribute('href'),\n",
    "                        \"investors\":e.find_elements_by_xpath(\".//td\")[2].text,\n",
    "                        \"money_raised\":e.find_elements_by_xpath(\".//td\")[3].text,\n",
    "                        \"lead_investor\":{\"name\":e.find_elements_by_xpath(\".//td\")[4].text,\n",
    "                                            \"link\": e.find_elements_by_xpath(\".//td\")[4].find_element_by_xpath(\".//*\").get_attribute('href')} })\n",
    "            dic['rounds'] = li\n",
    "        except:\n",
    "            dic = {}\n",
    "        \n",
    "        return(dic)\n",
    "    def people(self):\n",
    "        try:\n",
    "            self.driver.get('https://www.crunchbase.com/organization/'+str(self.name)+\"/people\")\n",
    "            try: \n",
    "                elem1 = self.driver.find_element_by_xpath(\".//*[@id= 'current_employees']\")\n",
    "                team = elem1.find_element_by_xpath('..').text\n",
    "            except :\n",
    "                team = ''\n",
    "        except:\n",
    "            team = ''\n",
    "        dic = {\n",
    "            'Team' : ' '.join(team.split()[2:]),\n",
    "        }\n",
    "        return(dic)\n",
    "    def technology(self):\n",
    "        try:\n",
    "            self.driver.get('https://www.crunchbase.com/organization/'+str(self.name)+\"/technology\")\n",
    "            try: \n",
    "                elem1 = self.driver.find_element_by_xpath(\".//*[@id= 'technology_about']\")\n",
    "                technology = elem1.find_element_by_xpath('..').text\n",
    "            except :\n",
    "                technology = ''\n",
    "        except:\n",
    "            technology = ''\n",
    "        dic = {\n",
    "            'Technology' : ' '.join(technology.split()[1:]),\n",
    "        }\n",
    "        return(dic)\n",
    "    def news(self):\n",
    "        self.driver.get('https://www.crunchbase.com/organization/'+str(self.name)+\"/signals_and_news\")\n",
    "        time.sleep(7)\n",
    "        try : \n",
    "            Activity = []\n",
    "            for e in self.driver.find_elements_by_xpath(\".//timeline-card/div\"):\n",
    "                typ = e.find_element_by_xpath(\".//div[@class= 'activity-title']/span\").text\n",
    "                dat = e.find_element_by_xpath(\".//div[@class= 'activity-title']/field-formatter\").text\n",
    "                source = e.find_element_by_xpath(\".//div[@class= 'activity-details']/*/div/*\").text\n",
    "                name = e.find_element_by_xpath(\".//a\").text\n",
    "                link = e.find_element_by_xpath(\".//a\").get_attribute('href')\n",
    "                if typ == 'News':\n",
    "                    Activity.append({'type':typ,'date':dat,'source':source,'name':name,'link':link})\n",
    "        except :\n",
    "            Activity = ''\n",
    "\n",
    "        try : \n",
    "            elem2 = self.driver.find_element_by_xpath(\".//*[@id= 'events']/..\")\n",
    "            imgs = [e.get_attribute('src') for e in elem2.find_elements_by_xpath(\".//img\")]\n",
    "            names = [{'name':e.text.split('\\n')[0],'role':e.text.split('\\n')[1],'date':e.text.split('\\n')[2]} for e in elem2.find_elements_by_xpath(\".//div[@class= 'fields']\")]\n",
    "            links = [e.get_attribute('href') for e in elem2.find_elements_by_xpath(\".//div[@class= 'fields']/a\")]\n",
    "            for i in range(len(imgs)):\n",
    "               names[i]['image'] =imgs[i]\n",
    "               names[i]['link'] =links[i]\n",
    "\n",
    "        except : \n",
    "            pass\n",
    "        dic = {\n",
    "            'Activity' : Activity,\n",
    "            'Events' : names}\n",
    "        return(dic)\n",
    "from selenium import webdriver\n",
    "from selenium.webdriver.common.by import By\n",
    "from selenium.webdriver.firefox.options import Options\n",
    "from selenium.webdriver.support.ui import WebDriverWait\n",
    "from selenium.webdriver.support import expected_conditions as EC\n",
    "from threading import Thread\n",
    "import time"
   ]
  },
  {
   "cell_type": "code",
   "execution_count": 211,
   "metadata": {},
   "outputs": [],
   "source": [
    "p=Profile('instadeep')"
   ]
  },
  {
   "cell_type": "code",
   "execution_count": 220,
   "metadata": {},
   "outputs": [
    {
     "output_type": "stream",
     "name": "stdout",
     "text": [
      "{'funding_rounds_info': {'Number of Funding Rounds ': '3', 'Total Funding Amount ': '$7M', 'Number of Lead Investors ': '1', 'Number of Investors ': '5'}, 'rounds': [{'announced_date': 'Jan 16, 2019', 'transaction_name': 'Private Equity Round - Infor', 'transaction_link': 'https://www.crunchbase.com/funding_round/infor-private-equity--dc0535c6', 'investors': '2', 'money_raised': '$1.5B', 'lead_investor': {'name': 'Golden Gate Capital, Koch Equity Development', 'link': None}}, {'announced_date': 'Nov 16, 2016', 'transaction_name': 'Private Equity Round - Infor', 'transaction_link': 'https://www.crunchbase.com/funding_round/infor-private-equity--d39e11a9', 'investors': '1', 'money_raised': '$2.5B', 'lead_investor': {'name': 'Koch Equity Development', 'link': None}}, {'announced_date': 'Apr 5, 2012', 'transaction_name': 'Private Equity Round - Infor', 'transaction_link': 'https://www.crunchbase.com/funding_round/infor-private-equity--f8cae723', 'investors': '2', 'money_raised': '—', 'lead_investor': {'name': '—', 'link': None}}, {'announced_date': 'Jul 1, 2011', 'transaction_name': 'Series D - Infor', 'transaction_link': 'https://www.crunchbase.com/funding_round/infor-series-d--5cb93296', 'investors': '1', 'money_raised': '—', 'lead_investor': {'name': '—', 'link': None}}]}\n"
     ]
    }
   ],
   "source": [
    "p.get_browser()\n",
    "print(p.financial())"
   ]
  },
  {
   "cell_type": "code",
   "execution_count": 178,
   "metadata": {},
   "outputs": [
    {
     "output_type": "stream",
     "name": "stdout",
     "text": [
      "{'Activity': [{'type': 'News', 'date': 'Feb 19, 2021', 'source': 'Medium —', 'name': '#SGGlobal21 Startup Program: Accelerate Startups Announced!', 'link': 'https://link.medium.com/yIlUtbV8Ydb'}, {'type': 'News', 'date': 'Jan 27, 2021', 'source': 'AiThority —', 'name': 'Kao Data to Host InstaDeep’s HPC and AI Supercomputer, Expanding R&D Capabilities', 'link': 'https://aithority.com/data-center-and-co-location/kao-data-to-host-instadeeps-hpc-and-ai-supercomputer-expanding-rd-capabilities/'}, {'type': 'News', 'date': 'Jan 26, 2021', 'source': 'ComputerWeekly.com —', 'name': 'Kao Data signs AI-focused life sciences startup InstaDeep as a customer', 'link': 'https://bit.ly/3a69cwT'}, {'type': 'News', 'date': 'Nov 25, 2020', 'source': 'GlobeNewswire News Room —', 'name': 'BioNTech and InstaDeep Announce Strategic Collaboration and Form AI Innovation Lab to Develop Novel Immunotherapies', 'link': 'https://bit.ly/39jljbg'}, {'type': 'News', 'date': 'Sep 4, 2019', 'source': 'Ventureburn —', 'name': 'French government announces initiative to fly three SA tech startups to France', 'link': 'https://ventureburn.com/2019/09/french-government-announces-initiative-to-fly-three-sa-tech-startups-to-france/'}], 'Events': [{'name': 'NVIDIA GTC 2021', 'role': 'Exhibitor', 'date': 'Apr 12, 2021', 'image': 'https://res-2.cloudinary.com/crunchbase-production/image/upload/c_lpad,h_85,w_85,f_auto,b_white,q_auto:eco/agi2gqa6nx16gypmwloj', 'link': 'https://www.crunchbase.com/event/nvidia-gtc-2019'}, {'name': 'GTC 2018', 'role': 'Exhibitor', 'date': 'Mar 26, 2018', 'image': 'https://res-1.cloudinary.com/crunchbase-production/image/upload/c_lpad,h_85,w_85,f_auto,b_white,q_auto:eco/nks6ffutbhkvvxzjnvxb', 'link': 'https://www.crunchbase.com/event/gtc-2018'}, {'name': 'MWC Barcelona', 'role': 'Exhibitor', 'date': 'Jun 28, 2014', 'image': 'https://res-5.cloudinary.com/crunchbase-production/image/upload/c_lpad,h_85,w_85,f_auto,b_white,q_auto:eco/cwxsq2uxyyrytixrwmbo', 'link': 'https://www.crunchbase.com/event/mwc-2020-barcelona'}]}\n"
     ]
    }
   ],
   "source": [
    "print(p.news())"
   ]
  },
  {
   "cell_type": "code",
   "execution_count": 219,
   "metadata": {},
   "outputs": [
    {
     "output_type": "execute_result",
     "data": {
      "text/plain": [
       "{'funding_rounds_info': {'Number of Funding Rounds ': '3',\n",
       "  'Total Funding Amount ': '$7M',\n",
       "  'Number of Lead Investors ': '1',\n",
       "  'Number of Investors ': '5'},\n",
       " 'rounds': [{'announced_date': 'Jan 16, 2019',\n",
       "   'transaction_name': 'Private Equity Round - Infor',\n",
       "   'transaction_link': 'https://www.crunchbase.com/funding_round/infor-private-equity--dc0535c6',\n",
       "   'investors': '2',\n",
       "   'money_raised': '$1.5B',\n",
       "   'lead_investor': {'name': 'Golden Gate Capital, Koch Equity Development',\n",
       "    'link': None}},\n",
       "  {'announced_date': 'Nov 16, 2016',\n",
       "   'transaction_name': 'Private Equity Round - Infor',\n",
       "   'transaction_link': 'https://www.crunchbase.com/funding_round/infor-private-equity--d39e11a9',\n",
       "   'investors': '1',\n",
       "   'money_raised': '$2.5B',\n",
       "   'lead_investor': {'name': 'Koch Equity Development', 'link': None}},\n",
       "  {'announced_date': 'Apr 5, 2012',\n",
       "   'transaction_name': 'Private Equity Round - Infor',\n",
       "   'transaction_link': 'https://www.crunchbase.com/funding_round/infor-private-equity--f8cae723',\n",
       "   'investors': '2',\n",
       "   'money_raised': '—',\n",
       "   'lead_investor': {'name': '—', 'link': None}},\n",
       "  {'announced_date': 'Jul 1, 2011',\n",
       "   'transaction_name': 'Series D - Infor',\n",
       "   'transaction_link': 'https://www.crunchbase.com/funding_round/infor-series-d--5cb93296',\n",
       "   'investors': '1',\n",
       "   'money_raised': '—',\n",
       "   'lead_investor': {'name': '—', 'link': None}}]}"
      ]
     },
     "metadata": {},
     "execution_count": 219
    }
   ],
   "source": [
    "p.financial()"
   ]
  },
  {
   "cell_type": "code",
   "execution_count": 146,
   "metadata": {},
   "outputs": [
    {
     "output_type": "execute_result",
     "data": {
      "text/plain": [
       "{'Team': ''}"
      ]
     },
     "metadata": {},
     "execution_count": 146
    }
   ],
   "source": [
    "p.people()"
   ]
  },
  {
   "cell_type": "code",
   "execution_count": 147,
   "metadata": {},
   "outputs": [
    {
     "output_type": "execute_result",
     "data": {
      "text/plain": [
       "{'Activity': '', 'Events': ''}"
      ]
     },
     "metadata": {},
     "execution_count": 147
    }
   ],
   "source": [
    "p.news()"
   ]
  },
  {
   "cell_type": "code",
   "execution_count": 148,
   "metadata": {},
   "outputs": [
    {
     "output_type": "execute_result",
     "data": {
      "text/plain": [
       "{'Technology': 'Aircision is actively using 5 technologies for its website, according to BuiltWith. These include Google Font API, nginx, and OpenResty.'}"
      ]
     },
     "metadata": {},
     "execution_count": 148
    }
   ],
   "source": [
    "p.technology()"
   ]
  },
  {
   "cell_type": "code",
   "execution_count": 152,
   "metadata": {},
   "outputs": [],
   "source": [
    "dicc={}\n",
    "dicc.update(p.summury())\n",
    "dicc.update(p.Technology())\n",
    "dicc.update(p.News())\n",
    "dicc.update(p.People())\n",
    "dicc.update(p.financial())"
   ]
  },
  {
   "cell_type": "code",
   "execution_count": 5,
   "metadata": {},
   "outputs": [
    {
     "output_type": "error",
     "ename": "SyntaxError",
     "evalue": "cannot assign to operator (<ipython-input-5-9e503220433a>, line 1)",
     "traceback": [
      "\u001b[1;36m  File \u001b[1;32m\"<ipython-input-5-9e503220433a>\"\u001b[1;36m, line \u001b[1;32m1\u001b[0m\n\u001b[1;33m    startup+'0' = \"hh\"\u001b[0m\n\u001b[1;37m    ^\u001b[0m\n\u001b[1;31mSyntaxError\u001b[0m\u001b[1;31m:\u001b[0m cannot assign to operator\n"
     ]
    }
   ],
   "source": [
    "startup+'0' = \"hh\""
   ]
  },
  {
   "cell_type": "code",
   "execution_count": 23,
   "metadata": {},
   "outputs": [
    {
     "output_type": "execute_result",
     "data": {
      "text/plain": [
       "0"
      ]
     },
     "metadata": {},
     "execution_count": 23
    }
   ],
   "source": [
    "(len(startup_list_1)//5)*5"
   ]
  },
  {
   "cell_type": "code",
   "execution_count": 33,
   "metadata": {},
   "outputs": [
    {
     "output_type": "stream",
     "name": "stdout",
     "text": [
      "0\n5\n"
     ]
    }
   ],
   "source": [
    "startup_list_1 = ['','','','','','','','','','','','']\n",
    "#startup_list_1 = []\n",
    "for i in range(0,(len(startup_list_1)//5)*5,5):\n",
    "    print(i)"
   ]
  },
  {
   "cell_type": "code",
   "execution_count": 32,
   "metadata": {},
   "outputs": [
    {
     "output_type": "execute_result",
     "data": {
      "text/plain": [
       "2"
      ]
     },
     "metadata": {},
     "execution_count": 32
    }
   ],
   "source": [
    "7 % 5"
   ]
  }
 ],
 "metadata": {
  "kernelspec": {
   "name": "python38232bite44129caa36245fe82a7d7957eec0f61",
   "display_name": "Python 3.8.2 32-bit"
  },
  "metadata": {
   "interpreter": {
    "hash": "130f4b44e65cf0e27ee1b8b80cb4c45dfcdab69167499e73d18afe709ceac731"
   }
  }
 },
 "nbformat": 4,
 "nbformat_minor": 4
}